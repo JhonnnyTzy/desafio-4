{
  "nbformat": 4,
  "nbformat_minor": 0,
  "metadata": {
    "colab": {
      "provenance": [],
      "authorship_tag": "ABX9TyN2ImScc3QdVjVfNgFJ46aq",
      "include_colab_link": true
    },
    "kernelspec": {
      "name": "python3",
      "display_name": "Python 3"
    },
    "language_info": {
      "name": "python"
    }
  },
  "cells": [
    {
      "cell_type": "markdown",
      "metadata": {
        "id": "view-in-github",
        "colab_type": "text"
      },
      "source": [
        "<a href=\"https://colab.research.google.com/github/JhonnnyTzy/desafio-4/blob/main/ejercicios_de_analisis_numerico_parte_4.ipynb\" target=\"_parent\"><img src=\"https://colab.research.google.com/assets/colab-badge.svg\" alt=\"Open In Colab\"/></a>"
      ]
    },
    {
      "cell_type": "markdown",
      "source": [
        "EJERCICIO 1"
      ],
      "metadata": {
        "id": "DgVSvX0QRWGu"
      }
    },
    {
      "cell_type": "code",
      "source": [
        "import sympy as sp\n",
        "\n",
        "# Definimos la variable simbólica x\n",
        "x = sp.symbols('x')\n",
        "\n",
        "# Definimos la función f(x)\n",
        "f_x = 25*x**3 - 6*x**2 + 7*x - 88\n",
        "\n",
        "# Calculamos la primera, segunda y tercera derivada de f(x)\n",
        "f_prime = sp.diff(f_x, x)\n",
        "f_double_prime = sp.diff(f_prime, x)\n",
        "f_triple_prime = sp.diff(f_double_prime, x)\n",
        "\n",
        "# Valores de x0 y x1\n",
        "x0 = 1\n",
        "x1 = 3\n",
        "\n",
        "# Evaluamos f(x) y sus derivadas en x0 y x1\n",
        "f_x0 = f_x.subs(x, x0)\n",
        "f_x1 = f_x.subs(x, x1)\n",
        "f_prime_x0 = f_prime.subs(x, x0)\n",
        "f_double_prime_x0 = f_double_prime.subs(x, x0)\n",
        "f_triple_prime_x0 = f_triple_prime.subs(x, x0)\n",
        "\n",
        "# Calculamos las diferencias\n",
        "h = x1 - x0\n",
        "orden_1 = f_x0 + f_prime_x0 * h\n",
        "orden_2 = f_x0 + f_prime_x0 * h + 0.5 * f_double_prime_x0 * h**2\n",
        "orden_3 = f_x0 + f_prime_x0 * h + 0.5 * f_double_prime_x0 * h**2 + (1/6) * f_triple_prime_x0 * h**3\n",
        "\n",
        "# Calculamos los errores relativos\n",
        "error_relativo_orden_1 = abs(f_x1 - orden_1) / abs(f_x1)\n",
        "error_relativo_orden_2 = abs(f_x1 - orden_2) / abs(f_x1)\n",
        "error_relativo_orden_3 = abs(f_x1 - orden_3) / abs(f_x1)\n",
        "\n",
        "# Imprimimos los resultados\n",
        "print(f\"f({x0}) = {f_x0}\")\n",
        "print(f\"f({x1}) = {f_x1}\")\n",
        "print(f\"f'({x0}) = {f_prime_x0}\")\n",
        "print(f\"f''({x0}) = {f_double_prime_x0}\")\n",
        "print(f\"f'''({x0}) = {f_triple_prime_x0}\")\n",
        "print(f\"Orden 1: {orden_1}\")\n",
        "print(f\"Orden 2: {orden_2}\")\n",
        "print(f\"Orden 3: {orden_3}\")\n",
        "\n",
        "# Imprimir los errores relativos\n",
        "print(f\"Error relativo Orden 1: {error_relativo_orden_1}\")\n",
        "print(f\"Error relativo Orden 2: {error_relativo_orden_2}\")\n",
        "print(f\"Error relativo Orden 3: {error_relativo_orden_3}\")\n"
      ],
      "metadata": {
        "colab": {
          "base_uri": "https://localhost:8080/"
        },
        "id": "6thPNJeaSCR_",
        "outputId": "6abc0ac7-e8af-4f1b-af66-9e75463a68f2"
      },
      "execution_count": 5,
      "outputs": [
        {
          "output_type": "stream",
          "name": "stdout",
          "text": [
            "f(1) = -62\n",
            "f(3) = 554\n",
            "f'(1) = 70\n",
            "f''(1) = 138\n",
            "f'''(1) = 150\n",
            "Orden 1: 78\n",
            "Orden 2: 354.000000000000\n",
            "Orden 3: 554.000000000000\n",
            "Error relativo Orden 1: 238/277\n",
            "Error relativo Orden 2: 0.361010830324910\n",
            "Error relativo Orden 3: 0\n"
          ]
        }
      ]
    },
    {
      "cell_type": "markdown",
      "source": [
        "EJERCICIO 2"
      ],
      "metadata": {
        "id": "dpkR6ne7RU1d"
      }
    },
    {
      "cell_type": "code",
      "source": [
        "import sympy as sp\n",
        "\n",
        "# Definimos la variable simbólica x\n",
        "x = sp.symbols('x')\n",
        "\n",
        "# Definimos la función f(x) como el logaritmo natural de x\n",
        "f_x = sp.log(x)\n",
        "\n",
        "# Calculamos la primera, segunda y tercera derivada de f(x)\n",
        "f_prime = sp.diff(f_x, x)\n",
        "f_double_prime = sp.diff(f_prime, x)\n",
        "f_triple_prime = sp.diff(f_double_prime, x)\n",
        "\n",
        "# Valores de x0 y x1\n",
        "x0 = 1\n",
        "x1 = 2.5\n",
        "\n",
        "# Evaluamos f(x) y sus derivadas en x0 y en x1\n",
        "f_x0 = f_x.subs(x, x0)\n",
        "f_x1 = f_x.subs(x, x1)\n",
        "f_prime_x0 = f_prime.subs(x, x0)\n",
        "f_double_prime_x0 = f_double_prime.subs(x, x0)\n",
        "f_triple_prime_x0 = f_triple_prime.subs(x, x0)\n",
        "\n",
        "# Calculamos la diferencia h\n",
        "h = x1 - x0\n",
        "\n",
        "# Aproximaciones de primer, segundo y tercer orden\n",
        "orden_1 = f_x0 + f_prime_x0 * h\n",
        "orden_2 = f_x0 + f_prime_x0 * h + 0.5 * f_double_prime_x0 * h**2\n",
        "orden_3 = f_x0 + f_prime_x0 * h + 0.5 * f_double_prime_x0 * h**2 + (1/6) * f_triple_prime_x0 * h**3\n",
        "\n",
        "# Calculamos los errores relativos\n",
        "error_relativo_orden_1 = abs(f_x1 - orden_1) / abs(f_x1)\n",
        "error_relativo_orden_2 = abs(f_x1 - orden_2) / abs(f_x1)\n",
        "error_relativo_orden_3 = abs(f_x1 - orden_3) / abs(f_x1)\n",
        "\n",
        "# Imprimimos los resultados\n",
        "print(f\"f({x0}) = {f_x0}\")\n",
        "print(f\"f({x1}) = {f_x1}\")\n",
        "print(f\"f'({x0}) = {f_prime_x0}\")\n",
        "print(f\"f''({x0}) = {f_double_prime_x0}\")\n",
        "print(f\"f'''({x0}) = {f_triple_prime_x0}\")\n",
        "print(f\"Orden 1: {orden_1}\")\n",
        "print(f\"Orden 2: {orden_2}\")\n",
        "print(f\"Orden 3: {orden_3}\")\n",
        "\n",
        "# Imprimimos los errores relativos\n",
        "print(f\"Error relativo Orden 1: {error_relativo_orden_1}\")\n",
        "print(f\"Error relativo Orden 2: {error_relativo_orden_2}\")\n",
        "print(f\"Error relativo Orden 3: {error_relativo_orden_3}\")\n"
      ],
      "metadata": {
        "colab": {
          "base_uri": "https://localhost:8080/"
        },
        "id": "o8KFi3TSRrym",
        "outputId": "576de4b3-3121-474f-82ed-f914f3c3933f"
      },
      "execution_count": 6,
      "outputs": [
        {
          "output_type": "stream",
          "name": "stdout",
          "text": [
            "f(1) = 0\n",
            "f(2.5) = 0.916290731874155\n",
            "f'(1) = 1\n",
            "f''(1) = -1\n",
            "f'''(1) = 2\n",
            "Orden 1: 1.50000000000000\n",
            "Orden 2: 0.375000000000000\n",
            "Orden 3: 1.50000000000000\n",
            "Error relativo Orden 1: 0.637035001905937\n",
            "Error relativo Orden 2: 0.590741249523516\n",
            "Error relativo Orden 3: 0.637035001905937\n"
          ]
        }
      ]
    },
    {
      "cell_type": "markdown",
      "source": [
        "EJERCICIO 3"
      ],
      "metadata": {
        "id": "NuBbKGwuRM9V"
      }
    },
    {
      "cell_type": "code",
      "source": [
        "import numpy as np\n",
        "\n",
        "# Valores conocidos\n",
        "B = 20  # Ancho en metros\n",
        "H = 0.3  # Profundidad en metros\n",
        "n = 0.03  # Coeficiente de rugosidad\n",
        "S = 0.0003  # Pendiente\n",
        "\n",
        "# Rango de variación de n y S\n",
        "n_min = 0.027\n",
        "n_max = 0.033\n",
        "S_min = 0.00027\n",
        "S_max = 0.00033\n",
        "\n",
        "# Fórmula de Manning\n",
        "def manning_flow(B, H, n, S):\n",
        "    return (1/n) * ((B * H)**(5/3)) / ((B + 2*H)**(2/3)) * np.sqrt(S)\n",
        "\n",
        "# Calcular el flujo con los valores medios de n y S\n",
        "Q = manning_flow(B, H, n, S)\n",
        "print(\"Flujo Q:\", Q)\n",
        "\n",
        "# Calcular derivadas parciales respecto a n y S\n",
        "def partial_derivative_n(B, H, n, S):\n",
        "    return -1 * ((B * H)**(5/3)) / (n**2 * (B + 2*H)**(2/3)) * np.sqrt(S)\n",
        "\n",
        "def partial_derivative_S(B, H, n, S):\n",
        "    return (1/n) * ((B * H)**(5/3)) / ((B + 2*H)**(2/3)) * (1 / (2 * np.sqrt(S)))\n",
        "\n",
        "# Derivadas parciales en los puntos medios\n",
        "deriv_n = partial_derivative_n(B, H, n, S)\n",
        "deriv_S = partial_derivative_S(B, H, n, S)\n",
        "\n",
        "print(\"Derivada parcial respecto a n:\", deriv_n)\n",
        "print(\"Derivada parcial respecto a S:\", deriv_S)\n",
        "\n",
        "# Sensibilidad (variación en Q debido a la variación en n y S)\n",
        "delta_Q_n = deriv_n * (n_max - n_min)\n",
        "delta_Q_S = deriv_S * (S_max - S_min)\n",
        "\n",
        "print(\"Cambio en Q debido a la variación en n:\", delta_Q_n)\n",
        "print(\"Cambio en Q debido a la variación en S:\", delta_Q_S)\n",
        "\n",
        "# Análisis de error de primer orden (error porcentual)\n",
        "eQ_n = np.abs(delta_Q_n / Q) * 100\n",
        "eQ_S = np.abs(delta_Q_S / Q) * 100\n",
        "\n",
        "print(\"Error porcentual debido a la variación en n:\", eQ_n)\n",
        "print(\"Error porcentual debido a la variación en S:\", eQ_S)\n",
        "\n",
        "# Cálculo del error total mediante propagación del error\n",
        "delta_n = (n_max - n_min) / 2  # Incertidumbre en n\n",
        "delta_S = (S_max - S_min) / 2  # Incertidumbre en S\n",
        "\n",
        "# Propagación del error\n",
        "error_total = (deriv_n * delta_n) + (deriv_S * delta_S)\n",
        "print(\"Error total en Q debido a la propagación del error:\", error_total)\n",
        "\n",
        "# Resultados comparativos\n",
        "if eQ_n > eQ_S:\n",
        "    print(\"Se recomienda medir con más precisión el coeficiente de rugosidad (n).\")\n",
        "else:\n",
        "    print(\"Se recomienda medir con más precisión la pendiente (S).\")\n",
        "\n"
      ],
      "metadata": {
        "colab": {
          "base_uri": "https://localhost:8080/"
        },
        "id": "7IAg1rLxS9lI",
        "outputId": "135aaea1-50ab-47f5-9b0a-f6fe089a32f4"
      },
      "execution_count": 7,
      "outputs": [
        {
          "output_type": "stream",
          "name": "stdout",
          "text": [
            "Flujo Q: 1.5221121162872078\n",
            "Derivada parcial respecto a n: -50.73707054290692\n",
            "Derivada parcial respecto a S: 2536.853527145346\n",
            "Cambio en Q debido a la variación en n: -0.3044224232574416\n",
            "Cambio en Q debido a la variación en S: 0.15221121162872076\n",
            "Error porcentual debido a la variación en n: 20.000000000000004\n",
            "Error porcentual debido a la variación en S: 10.0\n",
            "Error total en Q debido a la propagación del error: -0.07610560581436043\n",
            "Se recomienda medir con más precisión el coeficiente de rugosidad (n).\n"
          ]
        }
      ]
    },
    {
      "cell_type": "markdown",
      "source": [
        "EJERCICIO 4.1"
      ],
      "metadata": {
        "id": "NCmSktSfRFZ_"
      }
    },
    {
      "cell_type": "code",
      "execution_count": 9,
      "metadata": {
        "colab": {
          "base_uri": "https://localhost:8080/"
        },
        "id": "fHhS-F5_etBt",
        "outputId": "038351a2-8830-4c72-dee7-0ab287066590"
      },
      "outputs": [
        {
          "output_type": "stream",
          "name": "stdout",
          "text": [
            "H = 1366.3760906250002\n",
            "Derivada parcial con respecto a A: 9109.1739375\n",
            "Derivada parcial con respecto a e: 1518.1956562499997\n",
            "Derivada parcial con respecto a T: 8.40846825\n",
            "Error de H = 274.44306093750004\n",
            "H - eH = 1091.9330296875\n",
            "H + eH = 1640.8191515625003\n"
          ]
        }
      ],
      "source": [
        "import math\n",
        "\n",
        "# Valores iniciales y sus errores\n",
        "A = 0.15\n",
        "A_error = 0.01\n",
        "e = 0.9\n",
        "e_error = 0.01\n",
        "T = 650\n",
        "T_error = 20\n",
        "cte = 5.67e-8\n",
        "\n",
        "# Cálculo de H\n",
        "H = A * e * cte * T**4\n",
        "print(f\"H = {H}\")\n",
        "\n",
        "# Derivadas parciales\n",
        "dH_dA = e * cte * T**4\n",
        "dH_de = A * cte * T**4\n",
        "dH_dT = 4 * A * e * cte * T**3\n",
        "\n",
        "# Cálculo del error total utilizando la propagación del error\n",
        "H_error = (dH_dA * A_error) + (dH_de * e_error) + (dH_dT * T_error)\n",
        "\n",
        "# Resultados intermedios y finales\n",
        "print(f\"Derivada parcial con respecto a A: {dH_dA}\")\n",
        "print(f\"Derivada parcial con respecto a e: {dH_de}\")\n",
        "print(f\"Derivada parcial con respecto a T: {dH_dT}\")\n",
        "print(f\"Error de H = {H_error}\")\n",
        "print(f\"H - eH = {H - H_error}\")\n",
        "print(f\"H + eH = {H + H_error}\")\n"
      ]
    },
    {
      "cell_type": "markdown",
      "source": [
        "EJERCICIO 4.2\n"
      ],
      "metadata": {
        "id": "2g-pthhoauVP"
      }
    },
    {
      "cell_type": "code",
      "source": [
        "import math\n",
        "\n",
        "# Valores iniciales y sus errores\n",
        "A = math.pi*0.15**2\n",
        "A_error = 0.01\n",
        "e = 0.90\n",
        "e_error = 0.05\n",
        "T = 550\n",
        "T_error = 20\n",
        "cte = 5.67e-8\n",
        "\n",
        "# Cálculo de H\n",
        "H = A * e * cte * T**4\n",
        "print(f\"H = {H}\")\n",
        "\n",
        "# Derivadas parciales\n",
        "dH_dA = e * cte * T**4\n",
        "dH_de = A * cte * T**4\n",
        "dH_dT = 4 * A * e * cte * T**3\n",
        "\n",
        "# Cálculo del error total utilizando la propagación del error\n",
        "H_error = (dH_dA * A_error) + (dH_de * e_error) + (dH_dT * T_error)\n",
        "\n",
        "# Resultados intermedios y finales\n",
        "print(f\"Derivada parcial con respecto a A: {dH_dA}\")\n",
        "print(f\"Derivada parcial con respecto a e: {dH_de}\")\n",
        "print(f\"Derivada parcial con respecto a T: {dH_dT}\")\n",
        "print(f\"Error de H = {H_error}\")\n",
        "print(f\"H - eH = {H - H_error}\")\n",
        "print(f\"H + eH = {H + H_error}\")\n"
      ],
      "metadata": {
        "colab": {
          "base_uri": "https://localhost:8080/"
        },
        "id": "xXqI8mqVggRd",
        "outputId": "381195c9-6498-40cf-8425-cc4f87661064"
      },
      "execution_count": 10,
      "outputs": [
        {
          "output_type": "stream",
          "name": "stdout",
          "text": [
            "H = 330.0720246341511\n",
            "Derivada parcial con respecto a A: 4669.5639375\n",
            "Derivada parcial con respecto a e: 366.7466940379457\n",
            "Derivada parcial con respecto a T: 2.400523815521099\n",
            "Error de H = 113.04345038731927\n",
            "H - eH = 217.02857424683182\n",
            "H + eH = 443.1154750214704\n"
          ]
        }
      ]
    }
  ]
}